{
  "nbformat": 4,
  "nbformat_minor": 0,
  "metadata": {
    "colab": {
      "name": "chapter1.자료형",
      "provenance": [],
      "authorship_tag": "ABX9TyMerdaimdp1auFS8BlDXVX4",
      "include_colab_link": true
    },
    "kernelspec": {
      "name": "python3",
      "display_name": "Python 3"
    },
    "language_info": {
      "name": "python"
    },
    "gpuClass": "standard"
  },
  "cells": [
    {
      "cell_type": "markdown",
      "metadata": {
        "id": "view-in-github",
        "colab_type": "text"
      },
      "source": [
        "<a href=\"https://colab.research.google.com/github/MATHKIMS/git-/blob/master/chapter1_%EC%9E%90%EB%A3%8C%ED%98%95.ipynb\" target=\"_parent\"><img src=\"https://colab.research.google.com/assets/colab-badge.svg\" alt=\"Open In Colab\"/></a>"
      ]
    },
    {
      "cell_type": "code",
      "execution_count": null,
      "metadata": {
        "id": "c-_l1T6JrKSq"
      },
      "outputs": [],
      "source": [
        ""
      ]
    },
    {
      "cell_type": "markdown",
      "source": [
        "# **숫자형:  정수, 실수, 8진수,16진수**"
      ],
      "metadata": {
        "id": "xWxYlZvJrPqz"
      }
    },
    {
      "cell_type": "code",
      "source": [
        "#정수\n",
        "a=123  #양의정수\n",
        "b=-178 #음의 정수\n",
        "c=0 #0\n",
        "\n",
        "print(a)\n",
        "print(b)\n",
        "print(c)"
      ],
      "metadata": {
        "colab": {
          "base_uri": "https://localhost:8080/"
        },
        "id": "XM6ZRj2TrY8E",
        "outputId": "2c89e538-5cbd-46cd-ad72-81bf6403b0aa"
      },
      "execution_count": 3,
      "outputs": [
        {
          "output_type": "stream",
          "name": "stdout",
          "text": [
            "123\n",
            "-178\n",
            "0\n"
          ]
        }
      ]
    },
    {
      "cell_type": "code",
      "source": [
        "# 실수와 8진수 16진수\n",
        "a1=1.64\n",
        "a2=4.24E10  # E10= 10^10을 의미함\n",
        "\n",
        "b1=0o177 #8진수 : 처음에 0o,0O로 시작됨 실제로,127의 8진수임\n",
        "\n",
        "c1=0x8ff #16진수 : 처음 0x로 시작됨 실제로, 2303의 16진수임\n",
        "\n",
        "print(a1)\n",
        "print(a2)\n",
        "print(b1)\n",
        "print(c1)"
      ],
      "metadata": {
        "colab": {
          "base_uri": "https://localhost:8080/"
        },
        "id": "blLpUVCVrjnc",
        "outputId": "c9016de6-9df0-406f-da92-4bf67a156385"
      },
      "execution_count": 4,
      "outputs": [
        {
          "output_type": "stream",
          "name": "stdout",
          "text": [
            "1.64\n",
            "42400000000.0\n",
            "127\n",
            "2303\n"
          ]
        }
      ]
    },
    {
      "cell_type": "code",
      "source": [
        "# 변수의 연산\n",
        "\n",
        "a=4\n",
        "b=16   #변수는 한줄에 입력할수없음 \n",
        " \n",
        "print(a+b)\n",
        "print(a-b)\n",
        "print(a*b)\n",
        "print(a/b)"
      ],
      "metadata": {
        "colab": {
          "base_uri": "https://localhost:8080/"
        },
        "id": "YmOer_nQsKH9",
        "outputId": "9b7b82fa-7def-4c38-fc5e-e0d322e5df1e"
      },
      "execution_count": 8,
      "outputs": [
        {
          "output_type": "stream",
          "name": "stdout",
          "text": [
            "20\n",
            "-12\n",
            "64\n",
            "0.25\n"
          ]
        }
      ]
    },
    {
      "cell_type": "code",
      "source": [
        "# 제곱, 몫, 나머지 연산자\n",
        "print(7%3)\n",
        "print(7/4)\n",
        "print(7//4)\n",
        "\n",
        "print(14//3,14%3)"
      ],
      "metadata": {
        "colab": {
          "base_uri": "https://localhost:8080/"
        },
        "id": "KOdX7bgDuVnE",
        "outputId": "2e051229-cb55-4ac9-995f-17c0f77de7a9"
      },
      "execution_count": 13,
      "outputs": [
        {
          "output_type": "stream",
          "name": "stdout",
          "text": [
            "1\n",
            "1.75\n",
            "1\n",
            "4 2\n"
          ]
        }
      ]
    },
    {
      "cell_type": "code",
      "source": [
        ""
      ],
      "metadata": {
        "id": "zPmaEg5Uu3-G"
      },
      "execution_count": null,
      "outputs": []
    },
    {
      "cell_type": "markdown",
      "source": [
        "# **문자열: 문자,단어로 이루어진것 문자열은 \"a\"로 작성한다.**"
      ],
      "metadata": {
        "id": "ADcYwNMkvWNJ"
      }
    },
    {
      "cell_type": "code",
      "source": [
        "#문자열 형식\n",
        "\"Life\"\n",
        "'Life'\n",
        "\"\"\"Life\"\"\"\n",
        "'''life'''\n",
        "\n",
        "#'python's favorite food is perl'  #문제가 생기므로  일반적으로 \"\"을 사용함\n",
        "food=\"python's favorite food is perl\"\n",
        "\n",
        "print(food)\n",
        "\n",
        "\n"
      ],
      "metadata": {
        "colab": {
          "base_uri": "https://localhost:8080/"
        },
        "id": "Mwncf32lvlIz",
        "outputId": "e72e05b1-62bb-47aa-db69-e892b96faff4"
      },
      "execution_count": 44,
      "outputs": [
        {
          "output_type": "stream",
          "name": "stdout",
          "text": [
            "python's favorite food is perl\n"
          ]
        }
      ]
    },
    {
      "cell_type": "code",
      "source": [
        ""
      ],
      "metadata": {
        "id": "0l7Kl0xWKd_J"
      },
      "execution_count": null,
      "outputs": []
    },
    {
      "cell_type": "markdown",
      "source": [
        "# ***갑자기 생각한것 예외처리 ***"
      ],
      "metadata": {
        "id": "JcYqMUoDJhNS"
      }
    },
    {
      "cell_type": "code",
      "source": [
        "#오류의 종류는 2가지 : 구문오류와 예외오류 \n",
        "#1 구문 오류 : 프로그램실행자체가 되지않는 오류\n",
        "try:\n",
        "  print('python's favorite food perl')\n",
        "except SyntaxError:\n",
        "  print(\"오류야\")"
      ],
      "metadata": {
        "colab": {
          "base_uri": "https://localhost:8080/",
          "height": 137
        },
        "id": "mQg8pf-yHDD2",
        "outputId": "c1efc70a-6697-4584-dc8b-aee86712928c"
      },
      "execution_count": 41,
      "outputs": [
        {
          "output_type": "error",
          "ename": "SyntaxError",
          "evalue": "ignored",
          "traceback": [
            "\u001b[0;36m  File \u001b[0;32m\"<ipython-input-41-1ac7dae529f4>\"\u001b[0;36m, line \u001b[0;32m2\u001b[0m\n\u001b[0;31m    print('python's favorite food perl')\u001b[0m\n\u001b[0m                  ^\u001b[0m\n\u001b[0;31mSyntaxError\u001b[0m\u001b[0;31m:\u001b[0m invalid syntax\n"
          ]
        }
      ]
    },
    {
      "cell_type": "code",
      "source": [
        "#예외 오류: 구문은 틀리지않아 프로그램이 실행은 되나 실질적으로 의미상 잘못되는 오류들\n",
        "try:\n",
        "  4/0\n",
        "except ZeroDivisionError:\n",
        "  print(\"0으로 나눌수없음\")"
      ],
      "metadata": {
        "colab": {
          "base_uri": "https://localhost:8080/"
        },
        "id": "N9ADUze3EmaO",
        "outputId": "d955675a-e764-4c74-edf6-5ddfff2e571c"
      },
      "execution_count": 89,
      "outputs": [
        {
          "output_type": "stream",
          "name": "stdout",
          "text": [
            "0으로 나눌수없음\n"
          ]
        }
      ]
    },
    {
      "cell_type": "code",
      "source": [
        ""
      ],
      "metadata": {
        "id": "57DPmGgaKizU"
      },
      "execution_count": null,
      "outputs": []
    },
    {
      "cell_type": "markdown",
      "source": [
        "# 문자열의 큰따옴표 작은 따옴표 사용"
      ],
      "metadata": {
        "id": "kxX2HPmGKhDM"
      }
    },
    {
      "cell_type": "code",
      "source": [
        "\"Dongwoo's cool\"\n",
        "'\"Jinsoo is luxary\"'"
      ],
      "metadata": {
        "colab": {
          "base_uri": "https://localhost:8080/",
          "height": 35
        },
        "id": "FlfUNNlDHNPb",
        "outputId": "d57a7c0a-6979-4200-fed3-45ed44b788fc"
      },
      "execution_count": 45,
      "outputs": [
        {
          "output_type": "execute_result",
          "data": {
            "text/plain": [
              "'\"Jinsoo is luxary\"'"
            ],
            "application/vnd.google.colaboratory.intrinsic+json": {
              "type": "string"
            }
          },
          "metadata": {},
          "execution_count": 45
        }
      ]
    },
    {
      "cell_type": "code",
      "source": [
        "a=\"Dongwoo's cool\\nJinsoo is luxary\"\n",
        "print(a)"
      ],
      "metadata": {
        "colab": {
          "base_uri": "https://localhost:8080/"
        },
        "id": "tXGm7lyuIwPN",
        "outputId": "4ba7b00b-80df-4708-b044-7177a3ee3d02"
      },
      "execution_count": 49,
      "outputs": [
        {
          "output_type": "stream",
          "name": "stdout",
          "text": [
            "Dongwoo's cool\n",
            "Jinsoo is luxary\n"
          ]
        }
      ]
    },
    {
      "cell_type": "code",
      "source": [
        ""
      ],
      "metadata": {
        "id": "DOlE0rZPLfdU"
      },
      "execution_count": null,
      "outputs": []
    },
    {
      "cell_type": "markdown",
      "source": [
        "# #이스케이프 코드"
      ],
      "metadata": {
        "id": "1Uz_cMTtLrfg"
      }
    },
    {
      "cell_type": "markdown",
      "source": [
        "## **[문자열 연산](https://)**"
      ],
      "metadata": {
        "id": "teFQSFL1LcQE"
      }
    },
    {
      "cell_type": "code",
      "source": [
        "a=\"Dongwoo's\"\n",
        "b=\"cool\"\n",
        "a+b"
      ],
      "metadata": {
        "colab": {
          "base_uri": "https://localhost:8080/",
          "height": 35
        },
        "id": "q-YuF6kMLQo1",
        "outputId": "abb84b74-69b8-44fd-f0ec-992f241f1b7d"
      },
      "execution_count": 50,
      "outputs": [
        {
          "output_type": "execute_result",
          "data": {
            "text/plain": [
              "\"Dongwoo'scool\""
            ],
            "application/vnd.google.colaboratory.intrinsic+json": {
              "type": "string"
            }
          },
          "metadata": {},
          "execution_count": 50
        }
      ]
    },
    {
      "cell_type": "code",
      "source": [
        "a*2"
      ],
      "metadata": {
        "colab": {
          "base_uri": "https://localhost:8080/",
          "height": 35
        },
        "id": "ydBP5qhXLm7e",
        "outputId": "54cfa68c-7018-4267-9f9b-a4f32f3ab42e"
      },
      "execution_count": 51,
      "outputs": [
        {
          "output_type": "execute_result",
          "data": {
            "text/plain": [
              "\"Dongwoo'sDongwoo's\""
            ],
            "application/vnd.google.colaboratory.intrinsic+json": {
              "type": "string"
            }
          },
          "metadata": {},
          "execution_count": 51
        }
      ]
    },
    {
      "cell_type": "code",
      "source": [
        "len(a) #문자열 길이"
      ],
      "metadata": {
        "colab": {
          "base_uri": "https://localhost:8080/"
        },
        "id": "NgOyleH7MD4H",
        "outputId": "8683dc28-43d6-4618-8817-dc4e14c90681"
      },
      "execution_count": 52,
      "outputs": [
        {
          "output_type": "execute_result",
          "data": {
            "text/plain": [
              "9"
            ]
          },
          "metadata": {},
          "execution_count": 52
        }
      ]
    },
    {
      "cell_type": "code",
      "source": [
        ""
      ],
      "metadata": {
        "id": "-OX9Emh_MJKn"
      },
      "execution_count": null,
      "outputs": []
    },
    {
      "cell_type": "markdown",
      "source": [
        "**인덱싱과 슬라이싱**"
      ],
      "metadata": {
        "id": "TO4wSDcNMNaI"
      }
    },
    {
      "cell_type": "code",
      "source": [
        "a=\"Life is too short, You need Python\""
      ],
      "metadata": {
        "id": "d729JPBuMPxo"
      },
      "execution_count": 53,
      "outputs": []
    },
    {
      "cell_type": "code",
      "source": [
        "a[3] #3번째 요소 (문자)가 무엇인지 설명해줌 문자열의 첫글자의 인덱스 번호는 0부터시작"
      ],
      "metadata": {
        "colab": {
          "base_uri": "https://localhost:8080/",
          "height": 35
        },
        "id": "CU6-MMGtMVZl",
        "outputId": "527ea227-f892-4ec3-a76c-e970e9a74eae"
      },
      "execution_count": 56,
      "outputs": [
        {
          "output_type": "execute_result",
          "data": {
            "text/plain": [
              "'e'"
            ],
            "application/vnd.google.colaboratory.intrinsic+json": {
              "type": "string"
            }
          },
          "metadata": {},
          "execution_count": 56
        }
      ]
    },
    {
      "cell_type": "code",
      "source": [
        "print(a[-2]) #뒤에서 2번째\n",
        "\n",
        "print(a[0],a[-0]) #실제로 0과 -0은 같은값이여서 -적용이 안됨"
      ],
      "metadata": {
        "colab": {
          "base_uri": "https://localhost:8080/"
        },
        "id": "1BFZAzGxMWy0",
        "outputId": "c01cc3e4-ea72-4da6-9313-032d0e3d0e10"
      },
      "execution_count": 60,
      "outputs": [
        {
          "output_type": "stream",
          "name": "stdout",
          "text": [
            "o\n",
            "L L\n"
          ]
        }
      ]
    },
    {
      "cell_type": "code",
      "source": [
        "a[0:5]"
      ],
      "metadata": {
        "colab": {
          "base_uri": "https://localhost:8080/",
          "height": 35
        },
        "id": "qz2sTZivMzxT",
        "outputId": "25e122c9-bbaa-472e-b370-813f864d26b0"
      },
      "execution_count": 61,
      "outputs": [
        {
          "output_type": "execute_result",
          "data": {
            "text/plain": [
              "'Life '"
            ],
            "application/vnd.google.colaboratory.intrinsic+json": {
              "type": "string"
            }
          },
          "metadata": {},
          "execution_count": 61
        }
      ]
    },
    {
      "cell_type": "code",
      "source": [
        "a[19:-7]"
      ],
      "metadata": {
        "colab": {
          "base_uri": "https://localhost:8080/",
          "height": 35
        },
        "id": "se3aMvfjNVbt",
        "outputId": "13d78d8f-5900-40e5-9b54-e9aad403949c"
      },
      "execution_count": 62,
      "outputs": [
        {
          "output_type": "execute_result",
          "data": {
            "text/plain": [
              "'You need'"
            ],
            "application/vnd.google.colaboratory.intrinsic+json": {
              "type": "string"
            }
          },
          "metadata": {},
          "execution_count": 62
        }
      ]
    },
    {
      "cell_type": "code",
      "source": [
        "#문제: [\"Pithon\"이라는 문자열을 \"Python\"으로 바꾸려면?]\n",
        "\n",
        "a=\"Pithon\"\n",
        "\n",
        "b=a[0:1]+'y'+a[2:]\n",
        "\n",
        "print(b)\n"
      ],
      "metadata": {
        "colab": {
          "base_uri": "https://localhost:8080/"
        },
        "id": "rM9nfS4sNaE8",
        "outputId": "0531241a-4304-4fa8-aa67-36338d3513c4"
      },
      "execution_count": 72,
      "outputs": [
        {
          "output_type": "stream",
          "name": "stdout",
          "text": [
            "Python\n"
          ]
        }
      ]
    },
    {
      "cell_type": "markdown",
      "source": [
        "# **문자열 포매팅**"
      ],
      "metadata": {
        "id": "5G8AOubmQyWD"
      }
    },
    {
      "cell_type": "code",
      "source": [
        "#1 숫자 바로 넣기\n",
        "\n",
        "print(\"I eat %d apples.\" % 3)\n",
        "\n",
        "#2 문자열 바로넣기\n",
        "print(\"I eat %s apples.\" % \"three\")\n",
        "\n",
        "#3 변수로 넣는방법\n",
        "number=3\n",
        "print(\"I eat %d apples.\" % number)\n",
        "\n",
        "#4 2개이상 포매팅 이런식으로넣기- {\"%s,%d\"%(s1,n1)}\n",
        "number = 10\n",
        "day = \"three\"\n",
        "\"I ate %d apples. so I was sick for %s days.\" % (number, day)"
      ],
      "metadata": {
        "colab": {
          "base_uri": "https://localhost:8080/",
          "height": 90
        },
        "id": "DV-4DuF0O4u-",
        "outputId": "3b0fd073-049b-44b9-e5e5-0d1f68e9b6c9"
      },
      "execution_count": 78,
      "outputs": [
        {
          "output_type": "stream",
          "name": "stdout",
          "text": [
            "I eat 3 apples.\n",
            "I eat three apples.\n",
            "I eat 3 apples.\n"
          ]
        },
        {
          "output_type": "execute_result",
          "data": {
            "text/plain": [
              "'I ate 10 apples. so I was sick for three days.'"
            ],
            "application/vnd.google.colaboratory.intrinsic+json": {
              "type": "string"
            }
          },
          "metadata": {},
          "execution_count": 78
        }
      ]
    },
    {
      "cell_type": "code",
      "source": [
        "#부동 소수점\n",
        "\n",
        "\"rate is %d\" % 3.234\n",
        "\n",
        "\"rate is %f\" % 3.234\n",
        "\n",
        "\"rate is %s\" % 3.234"
      ],
      "metadata": {
        "colab": {
          "base_uri": "https://localhost:8080/",
          "height": 35
        },
        "id": "j34LGT75REzP",
        "outputId": "c233e354-9ff6-42b3-9808-033a0522105c"
      },
      "execution_count": 88,
      "outputs": [
        {
          "output_type": "execute_result",
          "data": {
            "text/plain": [
              "'rate is 3.234'"
            ],
            "application/vnd.google.colaboratory.intrinsic+json": {
              "type": "string"
            }
          },
          "metadata": {},
          "execution_count": 88
        }
      ]
    },
    {
      "cell_type": "code",
      "source": [
        ""
      ],
      "metadata": {
        "id": "5TkmRHoHR-KD"
      },
      "execution_count": null,
      "outputs": []
    }
  ]
}